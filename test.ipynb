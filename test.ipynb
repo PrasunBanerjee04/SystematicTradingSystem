{
 "cells": [
  {
   "cell_type": "code",
   "execution_count": 7,
   "id": "556ce6d1",
   "metadata": {},
   "outputs": [],
   "source": [
    "import numpy as np\n",
    "import pandas as pd\n",
    "import time\n",
    "import os\n",
    "from datetime import datetime, timedelta, timezone\n",
    "from dotenv import load_dotenv\n",
    "from pybit.unified_trading import HTTP\n",
    "import time"
   ]
  },
  {
   "cell_type": "code",
   "execution_count": 26,
   "id": "d41b092c",
   "metadata": {},
   "outputs": [],
   "source": [
    "from src import utils, data, strategy"
   ]
  },
  {
   "cell_type": "code",
   "execution_count": 9,
   "id": "939824d0",
   "metadata": {},
   "outputs": [],
   "source": [
    "load_dotenv()\n",
    "api_key = os.getenv(\"BYBIT_API_KEY\")\n",
    "api_secret = os.getenv(\"BYBIT_API_SECRET\")"
   ]
  },
  {
   "cell_type": "code",
   "execution_count": 12,
   "id": "d78d3bf8",
   "metadata": {},
   "outputs": [],
   "source": [
    "session = HTTP(\n",
    "    testnet=False, \n",
    "    api_key=api_key,\n",
    "    api_secret=api_secret,\n",
    ")"
   ]
  },
  {
   "cell_type": "code",
   "execution_count": 40,
   "id": "0576782d",
   "metadata": {},
   "outputs": [
    {
     "name": "stdout",
     "output_type": "stream",
     "text": [
      "Cache found and is fresh. Updating with the latest candle...\n",
      "Successfully fetched 1 candles: 15 minute interval.\n",
      "Successfully fetched 1 candles: 15 minute interval.\n",
      "Cache file has been updated.\n"
     ]
    }
   ],
   "source": [
    "p1, p2, close = data.stat_arb_data(session, \"ATOMUSDT\", \"OPUSDT\")"
   ]
  },
  {
   "cell_type": "code",
   "execution_count": 41,
   "id": "067c2dae",
   "metadata": {},
   "outputs": [
    {
     "data": {
      "text/html": [
       "<div>\n",
       "<style scoped>\n",
       "    .dataframe tbody tr th:only-of-type {\n",
       "        vertical-align: middle;\n",
       "    }\n",
       "\n",
       "    .dataframe tbody tr th {\n",
       "        vertical-align: top;\n",
       "    }\n",
       "\n",
       "    .dataframe thead th {\n",
       "        text-align: right;\n",
       "    }\n",
       "</style>\n",
       "<table border=\"1\" class=\"dataframe\">\n",
       "  <thead>\n",
       "    <tr style=\"text-align: right;\">\n",
       "      <th></th>\n",
       "      <th>ATOMUSDT</th>\n",
       "      <th>OPUSDT</th>\n",
       "    </tr>\n",
       "    <tr>\n",
       "      <th>startTime</th>\n",
       "      <th></th>\n",
       "      <th></th>\n",
       "    </tr>\n",
       "  </thead>\n",
       "  <tbody>\n",
       "    <tr>\n",
       "      <th>2025-10-13 06:30:00+00:00</th>\n",
       "      <td>3.494</td>\n",
       "      <td>0.4805</td>\n",
       "    </tr>\n",
       "    <tr>\n",
       "      <th>2025-10-13 06:45:00+00:00</th>\n",
       "      <td>3.516</td>\n",
       "      <td>0.4847</td>\n",
       "    </tr>\n",
       "    <tr>\n",
       "      <th>2025-10-13 07:00:00+00:00</th>\n",
       "      <td>3.530</td>\n",
       "      <td>0.4874</td>\n",
       "    </tr>\n",
       "    <tr>\n",
       "      <th>2025-10-13 07:15:00+00:00</th>\n",
       "      <td>3.548</td>\n",
       "      <td>0.4915</td>\n",
       "    </tr>\n",
       "    <tr>\n",
       "      <th>2025-10-13 07:30:00+00:00</th>\n",
       "      <td>3.547</td>\n",
       "      <td>0.4919</td>\n",
       "    </tr>\n",
       "    <tr>\n",
       "      <th>...</th>\n",
       "      <td>...</td>\n",
       "      <td>...</td>\n",
       "    </tr>\n",
       "    <tr>\n",
       "      <th>2025-10-23 15:15:00+00:00</th>\n",
       "      <td>3.202</td>\n",
       "      <td>0.4326</td>\n",
       "    </tr>\n",
       "    <tr>\n",
       "      <th>2025-10-23 15:30:00+00:00</th>\n",
       "      <td>3.194</td>\n",
       "      <td>0.4317</td>\n",
       "    </tr>\n",
       "    <tr>\n",
       "      <th>2025-10-23 15:45:00+00:00</th>\n",
       "      <td>3.198</td>\n",
       "      <td>0.4323</td>\n",
       "    </tr>\n",
       "    <tr>\n",
       "      <th>2025-10-23 16:00:00+00:00</th>\n",
       "      <td>3.194</td>\n",
       "      <td>0.4329</td>\n",
       "    </tr>\n",
       "    <tr>\n",
       "      <th>2025-10-23 16:15:00+00:00</th>\n",
       "      <td>3.196</td>\n",
       "      <td>0.4327</td>\n",
       "    </tr>\n",
       "  </tbody>\n",
       "</table>\n",
       "<p>1000 rows × 2 columns</p>\n",
       "</div>"
      ],
      "text/plain": [
       "                           ATOMUSDT  OPUSDT\n",
       "startTime                                  \n",
       "2025-10-13 06:30:00+00:00     3.494  0.4805\n",
       "2025-10-13 06:45:00+00:00     3.516  0.4847\n",
       "2025-10-13 07:00:00+00:00     3.530  0.4874\n",
       "2025-10-13 07:15:00+00:00     3.548  0.4915\n",
       "2025-10-13 07:30:00+00:00     3.547  0.4919\n",
       "...                             ...     ...\n",
       "2025-10-23 15:15:00+00:00     3.202  0.4326\n",
       "2025-10-23 15:30:00+00:00     3.194  0.4317\n",
       "2025-10-23 15:45:00+00:00     3.198  0.4323\n",
       "2025-10-23 16:00:00+00:00     3.194  0.4329\n",
       "2025-10-23 16:15:00+00:00     3.196  0.4327\n",
       "\n",
       "[1000 rows x 2 columns]"
      ]
     },
     "execution_count": 41,
     "metadata": {},
     "output_type": "execute_result"
    }
   ],
   "source": [
    "close"
   ]
  },
  {
   "cell_type": "code",
   "execution_count": 42,
   "id": "67b920ae",
   "metadata": {},
   "outputs": [],
   "source": [
    "s, z = strategy.stat_arb_strategy_sm(close, p1, p2, \"ATOMUSDT\", \"OPUSDT\")"
   ]
  }
 ],
 "metadata": {
  "kernelspec": {
   "display_name": "trading_system",
   "language": "python",
   "name": "python3"
  },
  "language_info": {
   "codemirror_mode": {
    "name": "ipython",
    "version": 3
   },
   "file_extension": ".py",
   "mimetype": "text/x-python",
   "name": "python",
   "nbconvert_exporter": "python",
   "pygments_lexer": "ipython3",
   "version": "3.12.12"
  }
 },
 "nbformat": 4,
 "nbformat_minor": 5
}
